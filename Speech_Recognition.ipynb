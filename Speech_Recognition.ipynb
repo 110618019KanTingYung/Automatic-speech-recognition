{
  "nbformat": 4,
  "nbformat_minor": 0,
  "metadata": {
    "colab": {
      "name": "Speech Recognition.ipynb",
      "provenance": [],
      "collapsed_sections": []
    },
    "kernelspec": {
      "name": "python3",
      "display_name": "Python 3"
    },
    "language_info": {
      "name": "python"
    },
    "accelerator": "GPU"
  },
  "cells": [
    {
      "cell_type": "code",
      "source": [
        "!pip install python_speech_features"
      ],
      "metadata": {
        "id": "kKpGaNC8hBaJ",
        "colab": {
          "base_uri": "https://localhost:8080/"
        },
        "outputId": "bb242aa4-3cfc-4ce8-bef6-9c66f462afeb"
      },
      "execution_count": 4,
      "outputs": [
        {
          "output_type": "stream",
          "name": "stdout",
          "text": [
            "Requirement already satisfied: python_speech_features in /usr/local/lib/python3.7/dist-packages (0.6)\n"
          ]
        }
      ]
    },
    {
      "cell_type": "code",
      "source": [
        "import csv\n",
        "import os\n",
        "import librosa\n",
        "from tensorflow.keras.models import Model\n",
        "from tensorflow.keras.layers import Input, Activation, Conv1D, Lambda, Add, Multiply, BatchNormalization, GRU\n",
        "from tensorflow.keras.optimizers import Adam, SGD\n",
        "from tensorflow.keras import backend as K\n",
        "from tensorflow.keras.callbacks import ModelCheckpoint, ReduceLROnPlateau\n",
        "import numpy as np\n",
        "import random\n",
        "from tqdm import tqdm\n",
        "from python_speech_features import mfcc\n",
        "import librosa"
      ],
      "metadata": {
        "id": "VQQXVmbz3Qtg"
      },
      "execution_count": null,
      "outputs": []
    },
    {
      "cell_type": "code",
      "execution_count": null,
      "metadata": {
        "id": "jD-co0jcG9y5"
      },
      "outputs": [],
      "source": [
        "#csv轉txt\n",
        "\n",
        "# with open('/content/drive/MyDrive/Machine Learning/ML@NTUT-2021-Autumn-ASR/train-toneless_update.csv',newline='',errors='ignore') as csvfile:\n",
        "#   rows = csv.reader(csvfile)\n",
        "#   for row in rows:\n",
        "#     a=row[0]\n",
        "#     b=row[1]\n",
        "#     f=open('/content/drive/MyDrive/Machine Learning/ML@NTUT-2021-Autumn-ASR/train/txt/'+a+'.txt','w')\n",
        "#     f.write(b)\n",
        "#     print(row)\n",
        "#     f.close()\n",
        "\n"
      ]
    },
    {
      "cell_type": "code",
      "source": [
        "#得到文件夾下的所有wav檔\n",
        "def get_wav_files(wav_path):\n",
        "  wav_files = []\n",
        "  for (dirpath, dirnames, filenames) in os.walk(wav_path):\n",
        "    for filename in filenames:\n",
        "      if filename.endswith('.wav') or filename.endswith('.WAV'):\n",
        "        #print(filename)\n",
        "        filename_path = os.path.join(dirpath, filename)\n",
        "        #print(filename_path)\n",
        "        wav_files.append(filename_path)\n",
        "  return wav_files\n",
        "\n",
        "wav_files=get_wav_files('/content/drive/MyDrive/Machine Learning/ML@NTUT-2021-Autumn-ASR/train')\n",
        "print(len(wav_files))"
      ],
      "metadata": {
        "id": "TsT4cz1BQehY",
        "colab": {
          "base_uri": "https://localhost:8080/"
        },
        "outputId": "401b5fc5-609b-441a-aaec-65c8a5f4c294"
      },
      "execution_count": 5,
      "outputs": [
        {
          "output_type": "stream",
          "name": "stdout",
          "text": [
            "3119\n"
          ]
        }
      ]
    },
    {
      "cell_type": "code",
      "source": [
        "def get_tran_texts(wav_files, tran_path):\n",
        "  tran_texts = []\n",
        "  for wav_file in wav_files:\n",
        "    basename = os.path.basename(wav_file)\n",
        "    x = os.path.splitext(basename) [0]\n",
        "    tran_file = os.path.join(tran_path ,x+'.txt')\n",
        "    #print(wav_filename)\n",
        "    if os.path.exists(tran_file) is False:\n",
        "      return None\n",
        "    fd = open(tran_file, 'r')\n",
        "    text = fd.readline().lower()\n",
        "    tran_texts.append(text.split('\\n')[0])\n",
        "    fd.close()\n",
        "    # print(tran_texts)\n",
        "  return tran_texts\n",
        "\n",
        "tran_texts=get_tran_texts(wav_files,'/content/drive/MyDrive/Machine Learning/ML@NTUT-2021-Autumn-ASR/train/txt')"
      ],
      "metadata": {
        "id": "GgIjk4eKQvMP"
      },
      "execution_count": 6,
      "outputs": []
    },
    {
      "cell_type": "code",
      "source": [
        "import librosa.display\n",
        "import numpy as np\n",
        "import matplotlib.pyplot as plt\n",
        "\n",
        "fig, ax = plt.subplots(2, 1)\n",
        "\n",
        "# 繪波形圖\n",
        "y, sr=librosa.load('/content/drive/MyDrive/Machine Learning/ML@NTUT-2021-Autumn-ASR/train/1.wav')\n",
        "\n",
        "librosa.display.waveshow(y, sr=sr, ax=ax[0])\n",
        "ax[0].set_title('nutcracker waveform')\n",
        "print(sr)\n",
        "\n",
        "# 繪梅爾頻譜\n",
        "S = librosa.feature.melspectrogram(y=y, sr=sr, n_mels=128, fmax=8000)\n",
        "S_dB = librosa.power_to_db(S, ref=np.max)\n",
        "librosa.display.specshow(S_dB, x_axis='time',\n",
        "              y_axis='mel', sr=sr,\n",
        "              fmax=8000, ax=ax[1])\n",
        "ax[1].set_title('Mel-frequency spectrogram')\n",
        "plt.tight_layout()\n",
        "plt.show()"
      ],
      "metadata": {
        "id": "lRmVJ1QrRNQt",
        "colab": {
          "base_uri": "https://localhost:8080/",
          "height": 314
        },
        "outputId": "cd8e95df-0ce1-479c-a37a-f027324de1e9"
      },
      "execution_count": null,
      "outputs": [
        {
          "output_type": "stream",
          "name": "stdout",
          "text": [
            "22050\n"
          ]
        },
        {
          "output_type": "display_data",
          "data": {
            "image/png": "[encoded data removed]",
            "text/plain": [
              "<Figure size 432x288 with 2 Axes>"
            ]
          },
          "metadata": {
            "needs_background": "light"
          }
        }
      ]
    },
    {
      "cell_type": "code",
      "source": [
        "mfcc_dim = 13\n",
        "\n",
        "def load_and_trim(path):\n",
        "  audio,sr = librosa.load(path) #可以讀取wav.mp3之類的檔家(返回值:音的信號值.採率)\n",
        "  #audio = librosa.resample(audio, sr, 16000)\n",
        "  energy = librosa.feature.rms(audio)#計算每幀的均方根(RMS)值\n",
        "  frames = np.nonzero(energy >= np.max(energy) / 50)\n",
        "  indices = librosa.core.frames_to_samples(frames)[1]\n",
        "  audio = audio[indices[0]:indices[-1]] if indices.size else audio[0:0]\n",
        "  return audio, sr\n"
      ],
      "metadata": {
        "id": "qH1tt1XQAB5O"
      },
      "execution_count": 7,
      "outputs": []
    },
    {
      "cell_type": "code",
      "source": [
        "from tqdm import tqdm \n",
        "import librosa\n",
        "import python_speech_features\n",
        "from python_speech_features import mfcc\n",
        "import random\n",
        "features =[]\n",
        "for i in tqdm(range(len(wav_files))):\n",
        "  path = wav_files[i]\n",
        "  audio, sr = load_and_trim(path)\n",
        "  #print(sr)\n",
        "  features.append(mfcc(audio, sr, numcep=mfcc_dim, nfft=551, highfreq=8000))\n",
        "# nfft = FFT大小,默認为512頻神點数(― 一般是2的女方)\n",
        "#aud1o 告頻訊號\n",
        "#sr : 探禄率\n",
        "#nighfreg:最高带造(默認是SR的1/2\n",
        "print(len(features), features[0].shape)\n",
        "\n",
        "samples = random.sample(features, 100)\n",
        "samples = np.vstack(samples)\n",
        "\n",
        "mfcc_mean = np.mean(samples, axis=0)\n",
        "mfcc_std = np.std(samples, axis=0)\n",
        "print(mfcc_mean)\n",
        "print(mfcc_std)\n",
        "features = [(feature - mfcc_mean) / (mfcc_std + 1e-14) for feature in features]"
      ],
      "metadata": {
        "id": "OPX2J2sMRtI3",
        "colab": {
          "base_uri": "https://localhost:8080/"
        },
        "outputId": "671570f9-6f9e-420d-c7bc-ff2bc2025155"
      },
      "execution_count": 8,
      "outputs": [
        {
          "output_type": "stream",
          "name": "stderr",
          "text": [
            "100%|██████████| 3119/3119 [12:41<00:00,  4.10it/s]\n"
          ]
        },
        {
          "output_type": "stream",
          "name": "stdout",
          "text": [
            "3119 (940, 13)\n",
            "[ -6.0386188   -5.02419101  -5.6094617    1.51584033 -15.04179257\n",
            "  -5.4407739   -5.91428884 -11.76700347  -3.48609814 -12.65501049\n",
            "  -7.23125538  -4.76239739   1.77279745]\n",
            "[ 3.80748481 15.58124845 20.70663649 17.17759924 19.64611614 14.98679027\n",
            " 14.91225484 15.9473795  13.97476656 14.92637146 12.51548464 13.01188357\n",
            " 11.10983157]\n"
          ]
        }
      ]
    },
    {
      "cell_type": "code",
      "source": [
        "chars = {}\n",
        "for text in tran_texts:\n",
        "  for e in text:\n",
        "    chars[e] = chars.get(e, 0) + 1\n",
        "    \n",
        "chars = sorted(chars.items(), key=lambda x: x[1], reverse=True)\n",
        "chars = [char[0] for char in chars]\n",
        "print(len(chars), chars[:100])\n",
        "\n",
        "#作總號\n",
        "char2id = {c: i for i, c in enumerate(chars)}\n",
        "id2char = {i: c for i, c in enumerate(chars)}\n",
        "print(\"char2id:\",char2id)\n",
        "print(\"id2char:\",id2char)"
      ],
      "metadata": {
        "id": "BnY13QZHSFEs",
        "colab": {
          "base_uri": "https://localhost:8080/"
        },
        "outputId": "9a2ec6f0-4c86-4d0d-9ff7-c35e9a4cb0aa"
      },
      "execution_count": 9,
      "outputs": [
        {
          "output_type": "stream",
          "name": "stdout",
          "text": [
            "27 [' ', 'i', 'a', 'n', 't', 'h', 's', 'u', 'o', 'k', 'g', 'e', 'l', 'p', 'b', 'm', 'j', 'r', 'c', 'd', 'f', 'y', 'v', 'w', 'x', 'q', 'z']\n",
            "char2id: {' ': 0, 'i': 1, 'a': 2, 'n': 3, 't': 4, 'h': 5, 's': 6, 'u': 7, 'o': 8, 'k': 9, 'g': 10, 'e': 11, 'l': 12, 'p': 13, 'b': 14, 'm': 15, 'j': 16, 'r': 17, 'c': 18, 'd': 19, 'f': 20, 'y': 21, 'v': 22, 'w': 23, 'x': 24, 'q': 25, 'z': 26}\n",
            "id2char: {0: ' ', 1: 'i', 2: 'a', 3: 'n', 4: 't', 5: 'h', 6: 's', 7: 'u', 8: 'o', 9: 'k', 10: 'g', 11: 'e', 12: 'l', 13: 'p', 14: 'b', 15: 'm', 16: 'j', 17: 'r', 18: 'c', 19: 'd', 20: 'f', 21: 'y', 22: 'v', 23: 'w', 24: 'x', 25: 'q', 26: 'z'}\n"
          ]
        }
      ]
    },
    {
      "cell_type": "code",
      "source": [
        "data_index = np.arange(len(wav_files))\n",
        "np.random.shuffle(data_index)\n",
        "train_size = int(0.9 * len(wav_files))\n",
        "test_size = len(wav_files) - train_size\n",
        "train_index = data_index[:train_size]\n",
        "test_index = data_index[train_size:]\n",
        "\n",
        "X_train = [features[i] for i in train_index]\n",
        "Y_train = [tran_texts[i] for i in train_index]\n",
        "X_test = [features[i] for i in test_index]\n",
        "Y_test = [tran_texts[i] for i in test_index]\n",
        "print(len(X_test),len(X_train))\n",
        "\n",
        "batch_size = 5\n",
        "    \n",
        "def batch_generator(x, y, batch_size=batch_size):  \n",
        "    offset = 0\n",
        "    while True:\n",
        "        offset += batch_size\n",
        "        \n",
        "        if offset == batch_size or offset >= len(x):\n",
        "            data_index = np.arange(len(x))\n",
        "            np.random.shuffle(data_index)\n",
        "            x = [x[i] for i in data_index]\n",
        "            y = [y[i] for i in data_index]\n",
        "            offset = batch_size\n",
        "            \n",
        "        X_data = x[offset - batch_size: offset]\n",
        "        Y_data = y[offset - batch_size: offset]\n",
        "        \n",
        "        X_maxlen = max([X_data[i].shape[0] for i in range(batch_size)])\n",
        "        Y_maxlen = max([len(Y_data[i]) for i in range(batch_size)])\n",
        "        \n",
        "        X_batch = np.zeros([batch_size, X_maxlen, mfcc_dim])\n",
        "        Y_batch = np.ones([batch_size, Y_maxlen]) * len(char2id)\n",
        "        X_length = np.zeros([batch_size, 1], dtype='int32')\n",
        "        Y_length = np.zeros([batch_size, 1], dtype='int32')\n",
        "        \n",
        "        for i in range(batch_size):\n",
        "            X_length[i, 0] = X_data[i].shape[0]\n",
        "            X_batch[i, :X_length[i, 0], :] = X_data[i]\n",
        "            \n",
        "            Y_length[i, 0] = len(Y_data[i])\n",
        "            Y_batch[i, :Y_length[i, 0]] = [char2id[c] for c in Y_data[i]]\n",
        "        \n",
        "        inputs = {'X': X_batch, 'Y': Y_batch, 'X_length': X_length, 'Y_length': Y_length}\n",
        "        outputs = {'ctc': np.zeros([batch_size])}\n",
        "        \n",
        "        yield (inputs, outputs)\n",
        "\n"
      ],
      "metadata": {
        "colab": {
          "base_uri": "https://localhost:8080/"
        },
        "id": "zt2czFbuxboH",
        "outputId": "83f8d6bb-7fd3-4283-be89-b525aadc9a22"
      },
      "execution_count": 74,
      "outputs": [
        {
          "output_type": "stream",
          "name": "stdout",
          "text": [
            "312 2807\n"
          ]
        }
      ]
    },
    {
      "cell_type": "code",
      "source": [
        "epochs = 6\n",
        "num_blocks = 2\n",
        "filters = 128\n",
        "\n",
        "X = Input(shape=(None, mfcc_dim,), dtype='float32', name='X')\n",
        "Y = Input(shape=(None,), dtype='float32', name='Y')\n",
        "X_length = Input(shape=(1,), dtype='int32', name='X_length')\n",
        "Y_length = Input(shape=(1,), dtype='int32', name='Y_length')\n",
        "\n",
        "def conv1d(inputs, filters, kernel_size, dilation_rate):\n",
        "    return Conv1D(filters=filters, kernel_size=kernel_size, strides=1, padding='causal', activation=None, dilation_rate=dilation_rate)(inputs)\n",
        "\n",
        "def batchnorm(inputs):\n",
        "    return BatchNormalization()(inputs)\n",
        "\n",
        "def activation(inputs, activation):\n",
        "    return Activation(activation)(inputs)\n",
        "\n",
        "def res_block(inputs, filters, kernel_size, dilation_rate):\n",
        "    hf = activation(batchnorm(conv1d(inputs, filters, kernel_size, dilation_rate)), 'tanh')\n",
        "    hg = activation(batchnorm(conv1d(inputs, filters, kernel_size, dilation_rate)), 'sigmoid')\n",
        "    h0 = Multiply()([hf, hg])\n",
        "    \n",
        "    ha = activation(batchnorm(conv1d(h0, filters, 1, 1)), 'tanh')\n",
        "    hs = activation(batchnorm(conv1d(h0, filters, 1, 1)), 'tanh')\n",
        "    \n",
        "    return Add()([ha, inputs]), hs\n",
        "\n",
        "h0 = activation(batchnorm(conv1d(X, filters, 1, 1)), 'tanh')\n",
        "shortcut = []\n",
        "for i in range(num_blocks):\n",
        "    for r in [1, 2, 4, 8, 16]:\n",
        "        h0, s = res_block(h0, filters, 7, r)\n",
        "        shortcut.append(s)\n",
        "\n",
        "h1 = activation(Add()(shortcut), 'relu')\n",
        "h1 = activation(batchnorm(conv1d(h1, filters, 1, 1)), 'relu')\n",
        "Y_pred = activation(batchnorm(conv1d(h1, len(char2id) + 1, 1, 1)), 'softmax')\n",
        "sub_model = Model(inputs=X, outputs=Y_pred)\n",
        "\n",
        "def calc_ctc_loss(args):\n",
        "    y, yp, ypl, yl = args\n",
        "    return K.ctc_batch_cost(y, yp, ypl, yl)\n",
        "\n",
        "ctc_loss = Lambda(calc_ctc_loss, output_shape=(1,), name='ctc')([Y, Y_pred, X_length, Y_length])\n",
        "model = Model(inputs=[X, Y, X_length, Y_length], outputs=ctc_loss)\n",
        "optimizer = SGD(lr=0.02, momentum=0.9, nesterov=True, clipnorm=5)\n",
        "model.compile(loss={'ctc': lambda ctc_true, ctc_pred: ctc_pred}, optimizer=optimizer)\n",
        "\n",
        "checkpointer = ModelCheckpoint(filepath='asr.h5', verbose=0)\n",
        "lr_decay = ReduceLROnPlateau(monitor='loss', factor=0.2, patience=1, min_lr=0.000)\n",
        "\n",
        "history = model.fit_generator(\n",
        "    generator=batch_generator(X_train, Y_train), \n",
        "    steps_per_epoch=len(X_train) // batch_size,\n",
        "    epochs=epochs, \n",
        "    validation_data=batch_generator(X_test, Y_test), \n",
        "    validation_steps=len(X_test) // batch_size, \n",
        "    callbacks=[checkpointer, lr_decay])\n",
        "\n"
      ],
      "metadata": {
        "colab": {
          "base_uri": "https://localhost:8080/"
        },
        "id": "NK22o9dWxoJK",
        "outputId": "3dd89fff-1649-4f3a-cc7d-44c65ef2beb5"
      },
      "execution_count": 75,
      "outputs": [
        {
          "output_type": "stream",
          "name": "stderr",
          "text": [
            "/usr/local/lib/python3.7/dist-packages/keras/optimizer_v2/gradient_descent.py:102: UserWarning: The `lr` argument is deprecated, use `learning_rate` instead.\n",
            "  super(SGD, self).__init__(name, **kwargs)\n",
            "/usr/local/lib/python3.7/dist-packages/ipykernel_launcher.py:59: UserWarning: `Model.fit_generator` is deprecated and will be removed in a future version. Please use `Model.fit`, which supports generators.\n"
          ]
        },
        {
          "output_type": "stream",
          "name": "stdout",
          "text": [
            "Epoch 1/6\n",
            "561/561 [==============================] - ETA: 0s - loss: 75.8892"
          ]
        },
        {
          "output_type": "stream",
          "name": "stderr",
          "text": [
            "/usr/local/lib/python3.7/dist-packages/keras/engine/functional.py:1410: CustomMaskWarning: Custom mask layers require a config and must override get_config. When loading, the custom mask layer must be passed to the custom_objects argument.\n",
            "  layer_config = serialize_layer_fn(layer)\n"
          ]
        },
        {
          "output_type": "stream",
          "name": "stdout",
          "text": [
            "\b\b\b\b\b\b\b\b\b\b\b\b\b\b\b\b\b\b\b\b\b\b\b\b\b\b\b\b\b\b\b\b\b\b\b\b\b\b\b\b\b\b\b\b\b\b\b\b\b\b\b\b\b\b\b\b\b\b\b\b\b\b\b\b\b\b\r561/561 [==============================] - 296s 487ms/step - loss: 75.8892 - val_loss: 118.9912 - lr: 0.0200\n",
            "Epoch 2/6\n",
            "561/561 [==============================] - 151s 268ms/step - loss: 38.6933 - val_loss: 50.1179 - lr: 0.0200\n",
            "Epoch 3/6\n",
            "561/561 [==============================] - 143s 256ms/step - loss: 33.7298 - val_loss: 42.1376 - lr: 0.0200\n",
            "Epoch 4/6\n",
            "561/561 [==============================] - 143s 254ms/step - loss: 28.6722 - val_loss: 36.9371 - lr: 0.0200\n",
            "Epoch 5/6\n",
            "561/561 [==============================] - 143s 254ms/step - loss: 25.6044 - val_loss: 32.8603 - lr: 0.0200\n",
            "Epoch 6/6\n",
            "561/561 [==============================] - 139s 248ms/step - loss: 23.9820 - val_loss: 40.7158 - lr: 0.0200\n"
          ]
        }
      ]
    },
    {
      "cell_type": "code",
      "source": [
        "import pickle\n",
        "\n",
        "sub_model.save('asr.h5')\n",
        "with open('dictionary.pkl', 'wb') as fw:\n",
        "    pickle.dump([char2id, id2char, mfcc_mean, mfcc_std], fw)"
      ],
      "metadata": {
        "id": "SsiePWCsx6Fx",
        "colab": {
          "base_uri": "https://localhost:8080/"
        },
        "outputId": "40a42f6e-c587-4cca-f0b0-1bbaa7313e91"
      },
      "execution_count": 64,
      "outputs": [
        {
          "output_type": "stream",
          "name": "stdout",
          "text": [
            "WARNING:tensorflow:Compiled the loaded model, but the compiled metrics have yet to be built. `model.compile_metrics` will be empty until you train or evaluate the model.\n"
          ]
        },
        {
          "output_type": "stream",
          "name": "stderr",
          "text": [
            "/usr/local/lib/python3.7/dist-packages/keras/engine/functional.py:1410: CustomMaskWarning: Custom mask layers require a config and must override get_config. When loading, the custom mask layer must be passed to the custom_objects argument.\n",
            "  layer_config = serialize_layer_fn(layer)\n"
          ]
        }
      ]
    },
    {
      "cell_type": "code",
      "source": [
        "import matplotlib.pyplot as plt\n",
        "train_loss = history.history['loss']\n",
        "valid_loss = history.history['val_loss']\n",
        "plt.plot(np.linspace(1, epochs, epochs), train_loss, label='train')\n",
        "plt.plot(np.linspace(1, epochs, epochs), valid_loss, label='valid')\n",
        "plt.legend(loc='upper right')\n",
        "plt.xlabel('Epoch')\n",
        "plt.ylabel('Loss')\n",
        "plt.show()\n",
        "\n"
      ],
      "metadata": {
        "id": "D6qualGFx9OZ",
        "colab": {
          "base_uri": "https://localhost:8080/",
          "height": 279
        },
        "outputId": "432851cc-70c3-434a-ad59-3399edaf913a"
      },
      "execution_count": 73,
      "outputs": [
        {
          "output_type": "display_data",
          "data": {
            "image/png": "[encoded data removed]",
            "text/plain": [
              "<Figure size 432x288 with 1 Axes>"
            ]
          },
          "metadata": {
            "needs_background": "light"
          }
        }
      ]
    },
    {
      "cell_type": "code",
      "source": [
        "import os\n",
        "set=4\n",
        "os.chdir('/content/drive/MyDrive/Machine Learning/ML@NTUT-2021-Autumn-ASR/test-shuf')\n",
        "for filename in os.listdir():\n",
        "  #print(filename)\n",
        "  #print(filename.split(h.n)lol.zfill(set)ti.wavn)\n",
        "  os.rename(filename,filename.split('.')[0].zfill(set)+'.wav')"
      ],
      "metadata": {
        "id": "O_kHOyfoa26b"
      },
      "execution_count": 66,
      "outputs": []
    },
    {
      "cell_type": "code",
      "source": [
        "from keras.models import load_model\n",
        "folder_path ='/content/drive/MyDrive/Machine Learning/ML@NTUT-2021-Autumn-ASR/test-shuf/'\n",
        "# Open one of the files,\n",
        "wavs=[]\n",
        "for data_file in sorted(os.listdir(folder_path)):\n",
        "  wavs.append(data_file)\n",
        "print('1:',wavs[0])\n",
        "for i in range(len(wavs)):\n",
        "  wavs[i]=os.path.join('/content/drive/MyDrive/Machine Learning/ML@NTUT-2021-Autumn-ASR/test-shuf/',wavs[i])\n",
        "print('2:',wavs[0])\n",
        "with open('/content/dictionary.pkl', 'rb') as fr:\n",
        "  [char2id,id2char, mfcc_mean, mfcc_std] = pickle.load(fr)\n",
        "\n",
        "mfcc_dim = 13\n",
        "model = load_model('/content/asr.h5')\n",
        "print(len(wavs))\n",
        "print('wavs=0',wavs[0])\n",
        "j=0\n",
        "z=1\n",
        "result=[]\n",
        "for i in range(len(wavs)):\n",
        "  audio, sr = librosa.load(wavs[i])\n",
        "  energy = librosa.feature.rms(audio)\n",
        "  frames = np.nonzero(energy >= np.max(energy) / 5)\n",
        "  indices = librosa.core.frames_to_samples(frames) [1]\n",
        "  audio = audio[indices[0]: indices[-1]] if indices.size else audio[0:0]\n",
        "\n",
        "  X_data = mfcc(audio, sr, numcep=mfcc_dim, nfft=551)\n",
        "  X_data = (X_data - mfcc_mean) / (mfcc_std + 1e-14)\n",
        "\n",
        "  pred = model.predict(np.expand_dims(X_data,axis=0))\n",
        "  pred_ids = K.eval(K.ctc_decode(pred, [X_data.shape[0]], greedy=False, beam_width=10,top_paths=1)[0][0])\n",
        "  pred_ids = pred_ids.flatten().tolist()\n",
        "  a=['']*(len(pred_ids))\n",
        "  x=0\n",
        "  for i in pred_ids:\n",
        "    if(i!= -1):\n",
        "      a[x]= id2char[i]\n",
        "      print(id2char[i], end='')\n",
        "      x = x+1\n",
        "    else:\n",
        "      break\n",
        "\n",
        "  while '' in a:\n",
        "    a.remove('')\n",
        "  result.append(a)\n",
        "\n",
        "  #audio = audio[indices[0]:indices[-1]] if indices.size else audio[0:0]\n",
        "with open('speech_predict2.csv', 'w') as f:\n",
        "  f.write('id,text\\n')\n",
        "  for i in range(len(wavs)):\n",
        "    f.write(str(i+1)+ ','+''.join(result[i]) + '\\n')\n",
        "  f.close()"
      ],
      "metadata": {
        "id": "JMZbkjpjrC-t",
        "colab": {
          "base_uri": "https://localhost:8080/"
        },
        "outputId": "8a94ee42-d6cf-4c87-974a-559f6914d68f"
      },
      "execution_count": 70,
      "outputs": [
        {
          "output_type": "stream",
          "name": "stdout",
          "text": [
            "1: 0001.wav\n",
            "2: /content/drive/MyDrive/Machine Learning/ML@NTUT-2021-Autumn-ASR/test-shuf/0001.wav\n",
            "WARNING:tensorflow:No training configuration found in the save file, so the model was *not* compiled. Compile it manually.\n",
            "346\n",
            "wavs=0 /content/drive/MyDrive/Machine Learning/ML@NTUT-2021-Autumn-ASR/test-shuf/0001.wav\n",
            "tso ho tsua sa ka riong pa kak tuika tsat kanoa ui fe ri e lingoing a uat tsia ka e lon loa m sian peasi siu jiap pe souma su kok u a pa so pi tai tshiang kaang e lapin kia bo ko lia u si lih ji tshiu phiu kuae si ko m ge kua lun ko ga ba ka hu tit king siok thaug kea la suan mo tau vre kui atiam tiunk tsiak ka kho khoa kisuasi s a e ho kien tik khui hia khbr la to si sasua guo tshi tshih tshun tsopuh la lai lai khang si tsia tkha sio tsiai hin tsik le i tua ln si bui tso si ts si tua kang tion ba si ashi sieae kuiatli tsit ie homben merl pu pura kohe tsu to pauh i kioe ke kheh i ke kak au tshitue ti k singbiia lu rae si sim lang kuau ben tsiok uet kanm ta sing khu ran kian lo siu tinmebe laouo kok ba si tsia pg si ebe ko khe a khu tsung te ua tshu bo la be iak khia o kok ba ika hitk tsoap pu tsit tsan jit tsi ka lua hig he velpu ge pw sit lia tshat io ka ka si bi kng ta un pea luie to shi puian siai higiosin tng teo hian pi pu lbo to poua lue khi a ilin than zio sut siana si lu ha tduai tae ki lahe o thau lung khra lu kai pone tshia ea ui hu i tsit kioh dzok ji gha iuh gue i giuap i tsa o kho tshehaneh i jo a uhen botsh ri puo e pu ripi lap si ton sua vak e pi liok ki si a shiat lo t k tshua ka koatk p keo tse pi kasi tit lu sinl bela hu santsioh tsin hio tay thoaobuesjia khie sion kia sik khi kong ko te vau pit gua pa si kholehu tui li kho tik i en tshap tsuat tso og e kong h tong jit sire ka u i than ka gua tou sioka tsitlu vai hin siog so si lu au si tok tsit sianguo hoh a l lu lataviau lok kitshat tepi lang tei bo piaon te be bo atak ke tsiah t gua lun san la tst tng kua thi na puan li ting kith sioktk thun thig hing mu thok uippak keia lonk kuai a lan at khi hngtsha ke u tsitie tshi ap tsu ho phinpti in to tsit hu he gia pin thang tsi ho lboo leh a tsi k tua u he ko tat ten ktha kuah litue pio ta pon tsia ho viatsi ah thian hang tsinspie png t ko lo iua kinj paini thaus khua sin pn tsit plio khoh tok ku siau lo a ho tsit si guatk kho siua tsia tshiu puiou lit hio tiok tsitk pua ci apoa a au o cipi ui bo tshe a ha he siv bun ta so i let liong gsok dyo si lap kiot ko et khi tsileh ki hi la r citi e s lo i sis hiloh sa si tha kho thua toh tsua sion sian ka puit pi tun thua lrh la pi e inuli ki hu pua ki la u te i tsio tok si hiap igo ko bua o bua luatuang si poa pa hiaun i hok tsuatp pi tsuea shu a thua suei li lea e tsu kak bea kheitsan sing tshia pouo lui kian pu sit loh sia pu t to ho te ti i kia hu e ka te tsutsin tsoak si phin simu hola ji bu bie pa sue uo tsit lit on han lea kamu otak hu a lio u tin tsiokp st iue voh bu ou tsiok hinsan tok koeirlr puo suan kh sa k u logua tsi ga tam tit le a tsiun kue tshu ung tsia la tsue latuo lin ua bwe kam tea kapia mui kok i r kia ea sa ten t kho ka phen bit ko tsut tin ka tivizom ka s kuat hia ia pit kion pinu hipa ua tsu pong tsu tsiak khuua tn lon tau bi pue biae sian e lu koau boo tsi ke hui bat ti ji kho li ji e tiok uat ta siaun he hau huatk ha lia i tie e tsuan siong khat s ka tholi khogua sinttshit tshi pen ue pak po po u to pin tsiu tshiak huen lok a io tsip re la tsok hiabe toe to tshia ho tsua be tun gau pi kam si lo tuen a a ka bat ko uei t tshu la tu pe tsit lpuit tui ang ra bo o e si tsiong tal peh nh si tsa kah tshian ho khersuah bat la cei tsa tsi o u si siuan eh khuan lalh tsiatsia pio u khui oeo lu tshia tsin tsiak shian tsi i tshia sio ko bui ka toe than tan lan gue phaun pe sing tia tsi ke tan thio pw vahan kat shoi ua n ki tha he tui ts h sua pehtn guia khiuti ma basit kang huan rahi tshit tshit tsu tsun te hoh l tom jvo bu thianua ko gua bue a tho en eiu si k pai ak i li tsu lang tsin hot a tol kho lio tsioh le tsi aa tsi la chea khi khi khilal sio keaguang o ka kio ka tsit to ho loakp bo tsae tiau ua ta lang eh in a uabah ka jsit tso tsi ak si tsue tshe po hiutsun tsit kua si th bo tiant kau it toa tsi pho than khan tsi pi tsio giok ka si ten iai tsi k ka lang koi peihfo mia n si uat si tsah hun eu ka tia a sitrkng tsuai tse hia i la cha tit oe la kok shiatk i tsit ku gu ci tha la lo tsen sin puin lu tshio hu tsit tshing he topk sag ho khao lin pehr lh ka pu lui khi lapiau a jsiu uat t ke ok p k tue ui pt pou ting i bia i top lieat lai a tia ban huat li thia guat kio lae tsit kua ei kia tshian lan tsiapio lit ka peri koa silr tha tsio sa tsuap tsit pah ge pah tsi tshiu san tshing ge tshiangrp k to si tsu so ro lo tsumra rhaj ka tsuang lo hue hu s tha thorluz tsik e s tso pi per ka si lah o thu k po loa bi tsok hihianl suau o sun sitai o si pu me kak khakiania tsio si tkhau khuet tso ka po pe tsiah po kuan si ba k tuin honto tsit khua sa ho tsan sio tjiu lu be gia tong khi tsit hua eaiu b po tshi un tsa bo kian la u bang it huat le lu o sian e la pi jiate kia lo ja kuat kia kag si chitan iua tuibe bo sa le ho l lo an i ki i tsiapi tshi hauo pe u le e lai a kutiu su pen ling kot si tsit o sa pa pa akhuat k ka thiamman kin lat tsia pon lari lo ri kua si an ka hi ra pin jgsiau sang gu kta ping a ha hin ho phuan tokt tsikhalo k tu guan ten ian si gua suen e pbu lnan tsua ut io guan lon be ho htsiobu hi phin so hi lia thau tsion tsit ku si tji khue kho pan e sian tu to si ko ton shu pan hit tsit paht tsua khi si ua puen kuan khi la khi hueta tsin kua lien tue lang tsua aba tshua hi pi hio pin tusi heae kiguo lo chauh khue tap tap te ti tuak hau loh uan bgua tsu ln tsu e liaue hle l tu si ko be ua lu ka sio e tso su lagea ba khi to hiangu lrlun ho vi gia it king tsit tui ho tsion khuola gua ko suan pan ia e piaong bi tsuan liap than enhuepi khia a e kian ka ho pua van giap kue tuk taiet hora ble sik ban to u tsi liat si si thau reeo tian kua heo hotshin tso ta in li bu geru thia th sui vu o ki hua tshiu hak sn ksha ka tsin it si pau phue tsik kha lutsi khabe chil ko lih ai kaok tshi po thau phu bo phantshiun kuao tshiantau be si hu ran siuo siuait e si tsu bia thiog it tse ho tsn tsit hue pvbvuo gu bu pihpi ka ta san lo enuha ga tsiok tsia lu khi tsia kon an ju lo ko biagu tsi ts si ko han pbo tsiah kue tsia a i phan e onh aliluliau tong keh iong bek reai khi rat khe tso tshrprar ji si kau phure ka si int tstsi si t ling si cak tshkua si o v pinidi puir tsit ua tsiah a sir gisu u phue riohfevo vua vo to pui i o fvuaro a ti tsia tha tshioi kan kiak ting siak kait ti si ko kat kino ken to khu lu jitot lie pout jiang kin he pheanliau leapi si tsit l tsilo sin o sung sin latok sili ti tko ho ka tsio ka a sua tsitle khe kpau tat ka ti tse tu shu bui a si ke tsthua tshi khuepe pah kho tak phin tia upetsi i huat ta kine io p t te ui pu potsitkr ipi hui tli khio bua kian buan kong pe bo tshuan tak sin ling kun si to jit sho puan un lang shi le kia mhi phin pui huianpa in be gua thoe ri simn lo gi lgia e nahau kea m than akiok su lau lu io a rat uar e ti sin i si tsn tot pabo lun to si pia to ta ta ko siuan sia ku kui kam sia u tai bu tshi tak k o su oa ui sion e ka tsibia hiok hi sua bing hit tian to tsii tsu holan thea lra ria si chra tsio uakonmg kat khi la uan u tua pu a i tshiguan la ua lok e guah in si tso siang e to tsig la bio khaue thbiao lau shio uitu tsia keh h la i tsian tsie la hi hia sun hia khiag bopui bi ko po thi vo tsio tse pe o tn h ia pue si tsing shon ben si ko theniaiai tsha tsuan tsio heo ela si tso ka e e ua le tuk tshi thu ko la si kh tsiau ke je tg si phia koi tsu si ka khua u kak sua hu tsiuakt tui p thaui hut u tiua ka tu la ku suaih labu le gan kia tn hion tin khuat ting nh tuo tsit kingt san tsap ie kion bo a liatang tsop ph jia to tso sn on sioh lan tsia pua hiokanm d a lah kiong ko tsit sang ha shiang tho tetak li len kamlat konpiu u e ji ta hak kisutha pin tsi sin ka jing haetso pi ko sibu ua ph kh e tsonk sanhi tiok ko tsui e iu tsog e lang r pui tsit sin oh etsua hin lan ki tui pula tu ba patn s e i tsit kui kuan liok lin ha ke liak in ha lu ku ue hit to mua la mui pui tsit kak ku kuo tsi pon i su kau phue thoalde pio tui siy pan sdosiloh pi pa tha to tsitp kua kon gkhilak shi pa kui lt pue beopi tshi eu bo lo pa to hua hut po e anm bu unap khile khuhenelio ki khaho e siaui tsing tshiuok ke i tsi e ko ong tai a mun ta e le ka e ko ua mu tsintn ma si sian that to aap pa h tha ai pa n kpiria pia be ku ka na tsu son tsiar tso kha le pi bua huitha tui sia hueun tiangd tsu shit phiaustsi tok tshi tsit liui oe hui e tsoap po phi hn ji ea ui tan la piak tse poh obu thau khan tin kue pken kit le tshiu sit tsiak kun bipi tshiu uong lekhi lai s suan ka pi pi hui aopi e phue hue pe pu pi konlun tsok tsia kon te pa ro r pia si li tsu to soa lo kinse kagea ka liyjoli khuan i tsun tsia tua kin ko tsit ra tsig hui tsiua batk ta tsi uat kusi ta ka u ko kai a ra lin be a pho a la be tsok buo kiu uan tsio tsuan keung piau loh labou khu khanh kue siua tsit oai tsou tsiot sui oe khaui oh tshu tshupi piati luait khuat khu bah liok ko sin le ka loang tshuoa san bolan tsit tsrn knpa kang an n tm vua tsigoi pia ra bo lu u hue ka thian tia lre tho t b khu e tsi liokh ho bu ten si kanm tan an ek lok memabun ktan tshiang kasa si ke ka e suan ho kun tshi tshi lontsa tiue hai in a lok tshi hua thai keo gu luh se pha a bae hure khau hua shi pia ku tshi ho ka ti e ben ki tn bo khugu siang hu lpiui hue tua tpian tin su iokgh oreaqy pu liok ku thiuhe p thiau ku ttu po tsu vuah guaein tsua to ro ten si tiohp hin ho so hue a tsiun sue hi an e kao tsit kong ui tio p s be sia hea giang la si a tha u lank to si toa tu pak si in hia liauk i hi tsiong tihu tsit si kang tal pu tshoh ka suat ihthin lrh ko ti khua fen la to a si khi ria tsit tsop khah hoa a ti kh lyiue sap piuah ka oa ko ue tshua r k tshe tshim ha atsi tsnl si tha ka puang tsha t san ksitn i tshin ki ia lo pii ho tsha la tai u tshu ru bion tieulu bio bi tsi kai tsit thaua tsua tuie la sau ho ga san tsap pa then attshiaun khi tou thui tsit kipon tsi lu la t bua kiak hoa khutinela tsu bai tsua a pa ra tui ong tsiut sio a pi a e kiong tsia lau afi la ji tou kao tsia tsit i loh han tsi pe pang e ka ta t keruan khu pvretlin ki si ka koeh tak ke khenghit hok khe sik tsnl pi ting ken tsin tsiohe pai sinh tshua ho heh tsia ka tiki tsit tsio si si pa tui kam tsa riau tsiuah la t kina pehi i shio musu tshoeo si g t li thang huai pau hea tshe tsu ea u khi kua khan rit pho si oea bahkua la tsit si au latsian eh tha lbe o puin tsin lu thah hoa pe sin goto ua ho gua tsiatsia bo uan ang en ako lrh khi sin kuea iaruh tsio ua tsit kha sin p pa phau ka tsioe tha ta ran si tun sit tsai tsin a tsi kua kui to phaun hkong koo un luate si tu to e titk tik tsit tsiuah au n an to si ka idro b bodo pa en kholgu u gun teh tin air lae khin tshi p lan e li sua e a si lh khi pai pa pa shi beh khi kai latan sibua khua j ke hiahau kok pe via e hin h tsit lrap tsit ka jn luk b ap ron kankg it sun liat tshia be si o i bi si ki pi tshit keo kian lekh ang e tson gua hit koa tshia tsuat ki tsik ka sitlop tha ia tsio pe a pugu e ho be tang pai tin si lo a shi khi ping tha loe e lau kionmng tai jilio ko ilan u t k ji m iot bang ho sian be lan siu tsintsi sia et ao li e huat to tsn si silamiah piean ti tsn ti to sio tshiau kui khi tsi ua thianh hu jialh hue sih h pa bu n pipu siak pinae iangiar tsu thi lai vo bo ka khuan lo lu pia tui in kui tianh qiong sung sanan liotsua han thain lu pit tion pt khuia a kha tiat e kiu sea hu le jiue ha kun tsin tsin ui tsian a si pap khuan tshiai hu tsit pa si si l lik pan lokh to paui tui vai t tu iah a si pat e ui kit e phinge tshian tso to ta jai pi sei tsa te shin huh the e phu hue bo khi lai io hio hi be si la gi lah de tha e sa gua io be tsiau tog ia pi ruabu hi lo pte sia hea ha aha ak tsian kehla h tsi keueilae khan tu i ho uit b si tu se jilioik iou kiensu e a a ko giak si t tsian loeu be o sea ka kok khau iant mi siun beng heo ka tsot ko kha hing khot si b he so e koh kha tshiu sin souljitong sin hobe lu siu chia thi lakon u long ku po b jhin ho kang tshiun ual tio a h hu ho papo siu pen uat bu se ji tsiak tiupioe khielan tsap i tsi ka ji ta ru cilo b vei i ian khah bou khiu sihuo tsu bui ion mu tshoe sh kan tn ci tai uan hean ta sit tie sa tsap ji kitsitk le ashi hiantebua khuan the kue liaui o tsiok kh ho khe si si ta si kt a u khah i o lu tuang khi s ben su kemu tsit le la lo si toakt pu be uitsit a lah lo u ka tiloe sina king tiaump kat then sigiapiln si eh tion n to heh ka e suai tshian li thi gua kap tsit kia pe tsho ain a khi litie ui a ho boahpi tok si lo tiung pa s e khi tsioah e kap pa lo e la koh i kianhpi kak sia keng ton tso phai the tso sa kasi thi khua ui ha kag k piou ti ko ke lgun usinhihnpi tsua ko sa ka u tsipui ka tsit hoe pu sian ka huain jui siang pi o to bae sua tsing ti a veo phe e ho a ka tshia tshia thau thap tu tsit e tsin iok tola tsiua pa tn olong kua p khia o pi koe shi tshshi i t k tse puen ko sua pfho lotin sian e miabunt ain lean bu di bou tsi to ka lag tpholma a ruapeh kau to hian i bo ho pohnmuin h haun tiop kh iok kinha ka rato pan buan tsik in oit tua iok tap pui e bun e siau kuan lui hauhk sit si tsuan hin tsiong bi ko tsua ha tit tua poto tsia lah e ko i be tsit to tho tho hi pi hia si u tsu thoa tot kua khin hiog o latsik ke hoeo pha tswe lo si ke dgeodb sia lia ts etsuai ten tshit tsuap ko hu sin ko ie sua lo kie tsio uet tsia ting ci tset uigu kua siun lretshiun la thai hit ir phue tsua pjangh thahat tbak suait uan phia ia pti gean ki ge a ha he o khi lato suan tso sin io khulan hon kn tsu tan sua lo lai kag ko e u e kha siong tsio tsit si le kan si lo hua la guang tsionkg ria u ping ka si leing guatrohat ko ho ha be un iu tshi suan huo in ma ang biu hug sitsuan e kag hu pok ko ru thia tshiang katu i sha a tuki sisia ha pin to fot la sin lo an tseo ue ti tsin tig kahi hi tshitsun sig ge khua re tsula huat sia tsong pe si ko ksit piabeo hoho ho hoaua ria kua lonk to be tsit si ho la pmanhou heh uama e tsuaren kok ki a khi bu tsit kua iau ok khit huan hu li tsikg ki ka gia ko tsing tshiutn e sia tin a kvui s ho tu ho basia hun siu ci tsut tsit ti so hua u tsi tse e hia pia ka bo huat o in hio si ta e ko ka ra po tsio u ga kek re i iot si tsi si bevak si t te pat la tshit khah tsunhrang tsin mi tsit tiok tsak sio l kn tuoa khua lre ta keon sia lea le tsuan a bo gia e in an tsia san ap ben tsin amn la ko ke pu e kau labuo kak li pn cr le tshua pu pe hitse ko ho iu eah no tsong gokg ea s ioa he ik ka u i tsiua the kui lua tng khin lo khua pan epai ke gat a hia san pas gua la tshing e lulela tsiah pe veojla b lra hehiotsit pan tsua lilo kang ho ben tsin o n bo bean iong tsin latsin ga siat guang tsi bi tsuot bi ton gau i la chiao ka hi pani ji lon i ki hu tang ho e tue to tsit khu ouoe ko huat luan tai lhin let ang kopi kag tiau ko u ki thu he ua la tsuo o si huahai an ta in bun sha bue khan to tsit puh khog ji khisiua lu a biah la sio kai hue lin khil ag tsut sat pi tu siong vo ti huiy lan ke io jo pio sa tso oa ti tah hak ti n kio sig ite than i t hia khau gua tha e li souoi tsia tsian e tshe pemo eh sun ia ba atu tsh phai bi cin u sa iu tsian suan sik tstin bo bu kauting tiaulianpdam te puia tso bu si jita pui bu tsi hun au jinky la kang sia tun hong tsua peo ha tsua hi a ho lon luan kuatsi iap su kon sirp pou si te kitiok kiap ki tsho bmu kin shu ka ha si kia siu thbuanh ta ka ho tsio ko hetshi ho a to en kui pua ho bori ko ebofi bia hiap peeh entsuat bak an tu lio ka tshi i o ko sia e tik si li ka sio luh to si tang pit t ui buo ka tsi thaun tsui et si li kuan e khag hi tsi le la lu sitit uan tho ta khaia khon kag he nin i tsian ho lu agpe pa ji ti ian r or si tsoi ua ben linleho ptsian nautsouo ei tshiua k a ka ju ho opsa tsin tshi a si lbe sahloh u thinsin a ai ko ka i tn se sik khu tsit pait phak paza pe mpuat ta koa pi ka tshitb si ea tak khat tsit tsha si tsui pei ka mn thang tshuaipu sian e si tsb tng khit ku pagau ko hi ja la khu i ua khah gea teotong lai atsin lun ce tshiuan ka suyh tsok tsia suo kea ju sing u tsi tshuat si tu tsia tsu bia sih siheo ko lok ts pua sing e tsit ku uera a tsap bn ko paing lhang kang he tet ui tsin ka han bua latsiak le la kn l tshia ra khia sipo a le tsiah ko kan pia lah a en bon k to tsi au kau bbo ji ho kuan ien pa rah si lu a ke kha tsua shio pai olril ko tsua si tsng puo to lok e kap tsit lok o ka tsit tpue tha khu anien pa tsua bog gat tan tng thelatu nla k kiam ji sua tsuak hun lia hoh ua tsia phao huan e tsiean lr la tsua kong ka hba si tsit lo tsit kok kin lik n kak i suan liap tsiah ben tsi lu luae roto a lo u tsiok ts siao lenla pi pua hin tah khit lok tsok i jin lahn okf puan pi ian sio h phit iokfe poan si ohu hit ak fcpui so i ti a okfhk i puin si sopo kaum si t hua tsut sin si ko eit kiog si pa bit sia hko p ko t iolong ko tsit sntsit in sieisi kaung ta tho tie ho ho bo pha kha siro pu auo oe phaun guan kuan kia sun ta taie t tio biea ui toh sio boe tshi tio puarat pui soh kip poe sia hu ts ji hot lan tsit si iauh tu sui toa pi bo pu liokt kha siaubeh lio liong bu e ko a ke hioe si tsry rui ong tshiah si to ts tsit kui e lan gia tso pit tho e lionp leo ku ku ko hing hi i paihe kho liepgcdu sa boi ig tsi pot ko tsu ka roen bio la tia ki tha eo tha e i t u siu khah vetik hua tu khoi e bek tu ki s si potsi i ka pi tsiag ta kiat ka khuan ribi e ko e ku tshitn tshi khari sio si bu e jika pio hok pi khaurp ke ha tsit ti pensa koei tsitlea la ka le kaum boh huaonra si pian pin t ti silg tsho hn n k o a pia ti tsioa pi i gu sin uh thaui tsig fan kho lsio teu tsiak pie i gita e i kia kau bi sio pe s su toh thion san sia a liu go piong san sin l la bo to lo tshuean li tshian kau e ji kui ta si tun to shiahbing to e tu huyr lio ua e lot li pu lo t tsian kang attshio le t po tsit sin la a kha si lai ei ton shiatit te phaun ba tia khvevu iok ku si siu gi la la u ai tsiapilai kue la ang tsio epui khit peo hu tha tsit a pie ba kha hoa gua ko lai tsion o lang thi lauh hoah liau an si latoh sio hue hap guak ha ko la khua o tshila han va pe lo u hio buhi gia hap e ko guauh ek hiak tiarn e lau shiog e ho sua kian koi boe bo ie kho pa tshi tshitn so me hut tsi u zi tsiung ei puotsuo to tsu tsikh va si kana si b thia hutints iloh shiuaet kuau kuan lzesin hng a iante i tsiak sea he hit uere he se hoe thia kua tsu si shi ting hon pjiua tsing tshi kha o pu tsiok kik po toa heialh ong e ki hia si si s i tue ko sianpia kh me ta a lut tsi lio kho ba kha si ji tai iuan to ko ti so tsuaet kiaon libma han bo pia thian tsi tkhua pan kho kua haneh bu a ku hiu tai tshua thi tepa lat la ha rue kelun hio n i tsit e la ka i liot tsin si pi baok tsiun ia kin kihi t th i ua tsite brint gshi u toak bo tsap pe baeu tsi o sian kaheasi lu un tsuan ia pun tio a abio ha pei thianin kui pu bi lo chian bu thaui sing hi tiak ko u tshit fng e l ai kintsoap ji pn a siak pheau kong u liok kili ji tpeh sua kua la huan o hit pang tsiun hui phin ang ki ki ko sipv ko ka tyr pr bu tiog toe i tiot puelr tr tsi shi hila biu pngqrtsin a jishinvantsa e pioirka tiry gu pei jibui tsinu si tai t i jin"
          ]
        }
      ]
    },
    {
      "cell_type": "code",
      "source": [
        "from keras.layers import Activation,BatchNormalization\n",
        "Y_pred = Activation(BatchNormalization(convld(h1, len(char2id) + 1, 1, 1)), 'softmax')\n",
        "sub_model = Model(inputs=x, outputs=Y_pred)\n",
        "\n",
        "def calc_ctc_loss(args):\n",
        "  y, yp, ypl, yl = args\n",
        "  return K.ctc_batch_cost(y, yp, ypl, yl)\n",
        "  \n",
        "ctc_loss = Lambda(calc_ctc_loss, output_shape=(1,), name='ctc')([Y, Y_pred, X_length, Y_lengtn])"
      ],
      "metadata": {
        "id": "4XGUW6uFTcVs"
      },
      "execution_count": null,
      "outputs": []
    }
  ]
}